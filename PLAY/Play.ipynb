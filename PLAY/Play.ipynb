{
 "cells": [
  {
   "cell_type": "code",
   "execution_count": 1,
   "id": "95c50379-c97f-482c-a321-c97613fc59b8",
   "metadata": {},
   "outputs": [],
   "source": [
    "from selenium import webdriver\n",
    "from selenium.webdriver.firefox.firefox_profile import FirefoxProfile\n",
    "import os\n",
    "from webdriver_manager.firefox import GeckoDriverManager\n",
    "from selenium.webdriver.firefox.service import Service\n",
    "from selenium.webdriver.common.by import By\n",
    "from selenium.webdriver.support.ui import WebDriverWait\n",
    "from selenium.webdriver.support import expected_conditions as EC\n",
    "import pandas as pd\n",
    "import warnings\n",
    "import time\n",
    "from selenium import webdriver\n",
    "from selenium.webdriver.chrome.service import Service \n",
    "from webdriver_manager.chrome import ChromeDriverManager\n",
    "from selenium.webdriver.common.keys import Keys\n",
    "from selenium.webdriver.chrome.options import Options\n",
    "warnings.filterwarnings(\"ignore\", category=DeprecationWarning) \n",
    "from selenium.webdriver.firefox.options import Options\n",
    "import numpy as np\n"
   ]
  },
  {
   "cell_type": "code",
   "execution_count": 2,
   "id": "c56ec080-ce20-45cb-b676-8ce2121cb0ef",
   "metadata": {},
   "outputs": [
    {
     "data": {
      "text/plain": [
       "'4.1.0'"
      ]
     },
     "execution_count": 2,
     "metadata": {},
     "output_type": "execute_result"
    }
   ],
   "source": [
    "import selenium\n",
    "selenium.__version__"
   ]
  },
  {
   "cell_type": "code",
   "execution_count": 3,
   "id": "96399b10-181e-4d0c-be14-3fa514d6fd33",
   "metadata": {},
   "outputs": [],
   "source": [
    "def check_substring(inputStr:str):\n",
    "    DataType = \"\"\n",
    "    inputStr = inputStr.lower()\n",
    "\n",
    "    # can you help do this HAHAHAHAH plessss\n",
    "    if \"criminal data\" in inputStr or \"criminal record\" in inputStr:\n",
    "        DataType += \"Criminal Records, \" \n",
    "    \n",
    "    if \"personal data\" in inputStr or \"cvs\" in inputStr or \"ssn\" in inputStr or \"personal\" in inputStr:\n",
    "        DataType += \"Personal Data, \"\n",
    "    \n",
    "    if \"network data\" in inputStr or \"network map\" in inputStr or \"remote services\" in inputStr or \"local services\" in inputStr:\n",
    "        DataType += \"Network Data, \"\n",
    "\n",
    "    if \"data of employees\" in inputStr or \"employee data\" in inputStr or \"employees data\" in inputStr or \"data of employee\" in inputStr:\n",
    "        DataType += \"Employee Data, \"\n",
    "\n",
    "    if \"data of customers\" in inputStr or \"customer data\" in inputStr or \"customers data\" in inputStr or \"data of customer\" in inputStr:\n",
    "        DataType += \"Customer Data, \"\n",
    "\n",
    "    if \"sensitive\" in inputStr:\n",
    "        DataType += \"Sensitive (general), \"\n",
    "\n",
    "    if \"database backup\" in inputStr or \"database backups\" in inputStr or \"database\" in inputStr or \"databases\" in inputStr:\n",
    "        DataType += \"Database Data, \"\n",
    "\n",
    "    if len(DataType)<1:\n",
    "        DataType += \"Unknown\"\n",
    "\n",
    "    return DataType"
   ]
  },
  {
   "cell_type": "code",
   "execution_count": 4,
   "id": "339998d3-9e49-44ce-82df-9dd72bb7e6f5",
   "metadata": {},
   "outputs": [
    {
     "name": "stderr",
     "output_type": "stream",
     "text": [
      "/bin/sh: 1: /home/kali/Downloads/tor-browser/Browser/TorBrowser/Tor/: Permission denied\n"
     ]
    },
    {
     "name": "stdout",
     "output_type": "stream",
     "text": [
      "1: 12\n",
      "2: 12\n",
      "3: 12\n",
      "4: 12\n"
     ]
    }
   ],
   "source": [
    "df = pd.DataFrame()\n",
    "urls_DT = []\n",
    "torexe = os.popen(r'/home/kali/Downloads/tor-browser/Browser/TorBrowser/Tor/')\n",
    "profile = FirefoxProfile(r'/home/kali/Downloads/tor-browser/Browser/TorBrowser/Data/Browser/profile.default')\n",
    "profile.set_preference('network.proxy.type', 1)\n",
    "profile.set_preference('network.proxy.socks', '127.0.0.1')\n",
    "profile.set_preference('network.proxy.socks_port', 9150)\n",
    "profile.set_preference(\"network.proxy.socks_remote_dns\", True)\n",
    "profile.update_preferences()\n",
    "\n",
    "#checking if tor is working\n",
    "# driver = webdriver.Firefox(firefox_profile= profile, executable_path=r'/home/kali/Downloads/geckodriver')\n",
    "# website = driver.get(\"http://check.torproject.org\")#checking\n",
    "options = Options()\n",
    "options.headless = True\n",
    "# options.add_experimental_option(\"detach\", True)\n",
    "orig_url = \"http://k7kg3jqxang3wh7hnmaiokchk7qoebupfgoik6rha6mjpzwupwtj25yd.onion/\"\n",
    "for j in range(1, 5):\n",
    "    print(j, end=\": \")\n",
    "    #set a new driver\n",
    "    driver = webdriver.Firefox(options=options, firefox_profile= profile, executable_path=r'/home/kali/Downloads/geckodriver')\n",
    "    #get the url \n",
    "    url = \"http://k7kg3jqxang3wh7hnmaiokchk7qoebupfgoik6rha6mjpzwupwtj25yd.onion/index.php?page=\"+str(j)\n",
    "    website = driver.get(url)\n",
    "\n",
    "    loaded = WebDriverWait(driver, 20).until(EC.visibility_of_all_elements_located((By.XPATH, \"//div[@class='watermark']\"))) \n",
    "    each_block = WebDriverWait(driver, 20).until(EC.visibility_of_all_elements_located((By.XPATH, \"//table/tbody/tr/th\")))\n",
    "    \n",
    "    each_block= each_block[4:-1]\n",
    "    print(len(each_block)) #makes sure each page has 12\n",
    "    for i in each_block:\n",
    "        llist = i.text.splitlines()\n",
    "        if len(llist)==7:\n",
    "            company_name, country, company_url, numviews, dateofattack, dateofleak, status,  = llist      \n",
    "        urls = (i.get_attribute(\"onclick\"))\n",
    "        urls_DT.append(orig_url+\"topic.php?id=\"+str(urls.split(\"'\")[1]))\n",
    "        df2 = pd.DataFrame({'Company_Name': company_name,\"Date_of_leak\": dateofleak, \"Date_of_attack\": dateofattack, \"Company_URL\": company_url, \"Country1\": country, \"NumViews\": numviews}, index=[0])\n",
    "        df = pd.concat([df,df2], axis = 0)\n",
    "    time.sleep(20) #sleep for a while before creating the new one\n",
    "\n",
    "driver.quit()\n",
    "    "
   ]
  },
  {
   "cell_type": "code",
   "execution_count": 5,
   "id": "1891aef4-2f02-4fe5-84f9-d5793c41d3dc",
   "metadata": {},
   "outputs": [
    {
     "name": "stdout",
     "output_type": "stream",
     "text": [
      "5: 12\n",
      "6: 12\n",
      "7: 12\n",
      "8: 12\n",
      "9: 12\n"
     ]
    }
   ],
   "source": [
    "#to do it in batches are prevent the code from slowing down\n",
    "time.sleep(20)\n",
    "profile = FirefoxProfile(r'/home/kali/Downloads/tor-browser/Browser/TorBrowser/Data/Browser/profile.default')\n",
    "profile.set_preference('network.proxy.type', 1)\n",
    "profile.set_preference('network.proxy.socks', '127.0.0.1')\n",
    "profile.set_preference('network.proxy.socks_port', 9150)\n",
    "profile.set_preference(\"network.proxy.socks_remote_dns\", True)\n",
    "profile.update_preferences()\n",
    "\n",
    "#checking if tor is working\n",
    "driver = webdriver.Firefox(firefox_profile= profile, executable_path=r'/home/kali/Downloads/geckodriver')\n",
    "website = driver.get(\"http://check.torproject.org\")#checking\n",
    "options = Options()\n",
    "options.headless = True\n",
    "\n",
    "orig_url = \"http://k7kg3jqxang3wh7hnmaiokchk7qoebupfgoik6rha6mjpzwupwtj25yd.onion/\"\n",
    "for j in range(5, 10): #pages 5 to 9 \n",
    "    print(j, end=\": \")\n",
    "    #set a new driver\n",
    "    driver = webdriver.Firefox(options=options, firefox_profile= profile, executable_path=r'/home/kali/Downloads/geckodriver')\n",
    "    #get the url \n",
    "    url = \"http://k7kg3jqxang3wh7hnmaiokchk7qoebupfgoik6rha6mjpzwupwtj25yd.onion/index.php?page=\"+str(j)\n",
    "    website = driver.get(url)\n",
    "\n",
    "    loaded = WebDriverWait(driver, 20).until(EC.visibility_of_all_elements_located((By.XPATH, \"//div[@class='watermark']\"))) \n",
    "    each_block = WebDriverWait(driver, 20).until(EC.visibility_of_all_elements_located((By.XPATH, \"//table/tbody/tr/th\")))\n",
    "    \n",
    "    each_block= each_block[4:-1]\n",
    "    print(len(each_block)) #makes sure each page has 12\n",
    "    for i in each_block:\n",
    "        llist = i.text.splitlines()\n",
    "        if len(llist)==7:\n",
    "            company_name, country, company_url, numviews, dateofattack, dateofleak, status,  = llist      \n",
    "        urls = (i.get_attribute(\"onclick\"))\n",
    "        urls_DT.append(orig_url+\"topic.php?id=\"+str(urls.split(\"'\")[1]))\n",
    "        df2 = pd.DataFrame({'Company_Name': company_name,\"Date_of_leak\": dateofleak, \"Date_of_attack\": dateofattack, \"Company_URL\": company_url, \"Country1\": country, \"NumViews\": numviews}, index=[0])\n",
    "        df = pd.concat([df,df2], axis = 0)\n",
    "    time.sleep(20) #sleep for a while before creating the new one\n",
    "\n",
    "driver.quit()\n",
    "    "
   ]
  },
  {
   "cell_type": "code",
   "execution_count": 6,
   "id": "a209185c-d74c-4bd8-bb19-c91eb2a0ecaa",
   "metadata": {},
   "outputs": [
    {
     "name": "stdout",
     "output_type": "stream",
     "text": [
      "10: 12\n",
      "11: 12\n",
      "12: 12\n",
      "13: 12\n",
      "14: 12\n"
     ]
    }
   ],
   "source": [
    "#to do it in batches are prevent the code from slowing down\n",
    "time.sleep(20)\n",
    "profile = FirefoxProfile(r'/home/kali/Downloads/tor-browser/Browser/TorBrowser/Data/Browser/profile.default')\n",
    "profile.set_preference('network.proxy.type', 1)\n",
    "profile.set_preference('network.proxy.socks', '127.0.0.1')\n",
    "profile.set_preference('network.proxy.socks_port', 9150)\n",
    "profile.set_preference(\"network.proxy.socks_remote_dns\", True)\n",
    "profile.update_preferences()\n",
    "\n",
    "#checking if tor is working\n",
    "driver = webdriver.Firefox(firefox_profile= profile, executable_path=r'/home/kali/Downloads/geckodriver')\n",
    "website = driver.get(\"http://check.torproject.org\")#checking\n",
    "options = Options()\n",
    "options.headless = True\n",
    "\n",
    "orig_url = \"http://k7kg3jqxang3wh7hnmaiokchk7qoebupfgoik6rha6mjpzwupwtj25yd.onion/\"\n",
    "for j in range(10, 15): #pages 10 to 14\n",
    "    print(j, end=\": \")\n",
    "    #set a new driver\n",
    "    driver = webdriver.Firefox(options=options, firefox_profile= profile, executable_path=r'/home/kali/Downloads/geckodriver')\n",
    "    #get the url \n",
    "    url = \"http://k7kg3jqxang3wh7hnmaiokchk7qoebupfgoik6rha6mjpzwupwtj25yd.onion/index.php?page=\"+str(j)\n",
    "    website = driver.get(url)\n",
    "\n",
    "    loaded = WebDriverWait(driver, 20).until(EC.visibility_of_all_elements_located((By.XPATH, \"//div[@class='watermark']\"))) \n",
    "    each_block = WebDriverWait(driver, 20).until(EC.visibility_of_all_elements_located((By.XPATH, \"//table/tbody/tr/th\")))\n",
    "    \n",
    "    each_block= each_block[4:-1]\n",
    "    print(len(each_block)) #makes sure each page has 12\n",
    "    for i in each_block:\n",
    "        llist = i.text.splitlines()\n",
    "        if len(llist)==7:\n",
    "            company_name, country, company_url, numviews, dateofattack, dateofleak, status,  = llist      \n",
    "        urls = (i.get_attribute(\"onclick\"))\n",
    "        urls_DT.append(orig_url+\"topic.php?id=\"+str(urls.split(\"'\")[1]))\n",
    "        df2 = pd.DataFrame({'Company_Name': company_name,\"Date_of_leak\": dateofleak, \"Date_of_attack\": dateofattack, \"Company_URL\": company_url, \"Country1\": country, \"NumViews\": numviews}, index=[0])\n",
    "        df = pd.concat([df,df2], axis = 0)\n",
    "    time.sleep(20) #sleep for a while before creating the new one\n",
    "\n",
    "driver.quit()\n",
    "    "
   ]
  },
  {
   "cell_type": "code",
   "execution_count": 7,
   "id": "31baeecd-9a4c-479c-896c-799820ef61d9",
   "metadata": {},
   "outputs": [
    {
     "name": "stdout",
     "output_type": "stream",
     "text": [
      "15: 12\n",
      "16: 12\n"
     ]
    }
   ],
   "source": [
    "#to do it in batches are prevent the code from slowing down\n",
    "time.sleep(20)\n",
    "profile = FirefoxProfile(r'/home/kali/Downloads/tor-browser/Browser/TorBrowser/Data/Browser/profile.default')\n",
    "profile.set_preference('network.proxy.type', 1)\n",
    "profile.set_preference('network.proxy.socks', '127.0.0.1')\n",
    "profile.set_preference('network.proxy.socks_port', 9150)\n",
    "profile.set_preference(\"network.proxy.socks_remote_dns\", True)\n",
    "profile.update_preferences()\n",
    "\n",
    "#checking if tor is working\n",
    "driver = webdriver.Firefox(firefox_profile= profile, executable_path=r'/home/kali/Downloads/geckodriver')\n",
    "website = driver.get(\"http://check.torproject.org\")#checking\n",
    "options = Options()\n",
    "options.headless = True\n",
    "\n",
    "orig_url = \"http://k7kg3jqxang3wh7hnmaiokchk7qoebupfgoik6rha6mjpzwupwtj25yd.onion/\"\n",
    "for j in range(15, 17): #pages 15 to 16, page 17 is year 2002\n",
    "    print(j, end=\": \")\n",
    "    #set a new driver\n",
    "    driver = webdriver.Firefox(options=options, firefox_profile= profile, executable_path=r'/home/kali/Downloads/geckodriver')\n",
    "    #get the url \n",
    "    url = \"http://k7kg3jqxang3wh7hnmaiokchk7qoebupfgoik6rha6mjpzwupwtj25yd.onion/index.php?page=\"+str(j)\n",
    "    website = driver.get(url)\n",
    "\n",
    "    loaded = WebDriverWait(driver, 20).until(EC.visibility_of_all_elements_located((By.XPATH, \"//div[@class='watermark']\"))) \n",
    "    each_block = WebDriverWait(driver, 20).until(EC.visibility_of_all_elements_located((By.XPATH, \"//table/tbody/tr/th\")))\n",
    "    \n",
    "    each_block= each_block[4:-1]\n",
    "    print(len(each_block)) #makes sure each page has 12\n",
    "    for i in each_block:\n",
    "        llist = i.text.splitlines()\n",
    "        if len(llist)==7:\n",
    "            company_name, country, company_url, numviews, dateofattack, dateofleak, status,  = llist      \n",
    "        urls = (i.get_attribute(\"onclick\"))\n",
    "        urls_DT.append(orig_url+\"topic.php?id=\"+str(urls.split(\"'\")[1]))\n",
    "        df2 = pd.DataFrame({'Company_Name': company_name,\"Date_of_leak\": dateofleak, \"Date_of_attack\": dateofattack, \"Company_URL\": company_url, \"Country1\": country, \"NumViews\": numviews}, index=[0])\n",
    "        df = pd.concat([df,df2], axis = 0)\n",
    "    time.sleep(20) #sleep for a while before creating the new one\n",
    "\n",
    "driver.quit()\n",
    "    "
   ]
  },
  {
   "cell_type": "code",
   "execution_count": 8,
   "id": "a8f5e5df-13c6-45b8-9a7f-ff3c95ff6ca3",
   "metadata": {},
   "outputs": [
    {
     "data": {
      "text/plain": [
       "(192, 6)"
      ]
     },
     "execution_count": 8,
     "metadata": {},
     "output_type": "execute_result"
    }
   ],
   "source": [
    "df.shape"
   ]
  },
  {
   "cell_type": "code",
   "execution_count": 9,
   "id": "5fb29c46-3b5f-4b0d-9d5e-1ee8427dd1e7",
   "metadata": {},
   "outputs": [
    {
     "data": {
      "text/plain": [
       "192"
      ]
     },
     "execution_count": 9,
     "metadata": {},
     "output_type": "execute_result"
    }
   ],
   "source": [
    "len(urls_DT)\n"
   ]
  },
  {
   "cell_type": "code",
   "execution_count": 10,
   "id": "6e235593-2cc6-4977-be0a-30af959cd8ae",
   "metadata": {},
   "outputs": [],
   "source": [
    "df3 = pd.DataFrame()\n",
    "df3['DT_URLS'] = urls_DT\n",
    "df3.to_csv('DT_URLS.csv')\n",
    "df.to_csv('PLAY_DATA.csv')"
   ]
  },
  {
   "cell_type": "code",
   "execution_count": 11,
   "id": "1a320d4e-cfb2-4b3f-b25b-b3793b641030",
   "metadata": {},
   "outputs": [],
   "source": [
    "df = df[~df.Date_of_leak.str.contains(\"2022\") == True]"
   ]
  },
  {
   "cell_type": "code",
   "execution_count": 12,
   "id": "4f7b4a1e-8b2e-44b2-b677-4322d89c520f",
   "metadata": {},
   "outputs": [
    {
     "data": {
      "text/plain": [
       "180"
      ]
     },
     "execution_count": 12,
     "metadata": {},
     "output_type": "execute_result"
    }
   ],
   "source": [
    "df.shape[0]"
   ]
  },
  {
   "cell_type": "code",
   "execution_count": 14,
   "id": "7105f023-1470-4cb3-8212-d87a8ad254ca",
   "metadata": {},
   "outputs": [
    {
     "data": {
      "text/plain": [
       "192"
      ]
     },
     "execution_count": 14,
     "metadata": {},
     "output_type": "execute_result"
    }
   ],
   "source": [
    "len(urls_DT)"
   ]
  },
  {
   "cell_type": "code",
   "execution_count": 3,
   "id": "b577ca11-69c8-42a8-9b63-6566582d9131",
   "metadata": {},
   "outputs": [
    {
     "data": {
      "text/plain": [
       "81"
      ]
     },
     "execution_count": 3,
     "metadata": {},
     "output_type": "execute_result"
    }
   ],
   "source": [
    "df = pd.read_csv('PLAY_DATA.csv')\n",
    "df3 = pd.read_csv('DT_URLS.csv')\n",
    "df4 = pd.read_csv('DataType.csv')\n",
    "DataType = df4['DataType'].tolist()\n",
    "urls_DT = df3['DT_URLS'].tolist()\n",
    "len(DataType)"
   ]
  },
  {
   "cell_type": "code",
   "execution_count": 20,
   "id": "8fe0e638-9302-4bb1-941a-9713d639eec9",
   "metadata": {},
   "outputs": [
    {
     "data": {
      "text/plain": [
       "171"
      ]
     },
     "execution_count": 20,
     "metadata": {},
     "output_type": "execute_result"
    }
   ],
   "source": [
    "len(DataType)"
   ]
  },
  {
   "cell_type": "code",
   "execution_count": 21,
   "id": "dac4fecf-91f2-48a9-8593-9f7a3f7c0706",
   "metadata": {},
   "outputs": [
    {
     "name": "stdout",
     "output_type": "stream",
     "text": [
      "171\n",
      "172\n",
      "173\n",
      "174\n",
      "175\n",
      "Quitting... Starting a new one\n",
      "176\n",
      "177\n",
      "Message: \n",
      "\n",
      "178\n",
      "179\n"
     ]
    }
   ],
   "source": [
    "#scrapping the Data Type\n",
    "\n",
    "profile = FirefoxProfile(r'/home/kali/Downloads/tor-browser/Browser/TorBrowser/Data/Browser/profile.default')\n",
    "profile.set_preference('network.proxy.type', 1)\n",
    "profile.set_preference('network.proxy.socks', '127.0.0.1')\n",
    "profile.set_preference('network.proxy.socks_port', 9150)\n",
    "profile.set_preference(\"network.proxy.socks_remote_dns\", True)\n",
    "profile.update_preferences()\n",
    "\n",
    "driver = webdriver.Firefox(firefox_profile= profile, executable_path=r'/home/kali/Downloads/geckodriver')\n",
    "website = driver.get(\"http://check.torproject.org\")#checking\n",
    "time.sleep(10)\n",
    "\n",
    "options = Options()\n",
    "options.headless = True\n",
    "\n",
    "#important to do in batches, if not kali will crash \n",
    "for counter in range(171, 180): #till 170  max length:180 (0 to 179)\n",
    "    u = urls_DT[counter]\n",
    "    try:\n",
    "        print(counter)\n",
    "        driver = webdriver.Firefox(options=options, firefox_profile= profile, executable_path=r'/home/kali/Downloads/geckodriver')\n",
    "        website = driver.get(u)\n",
    "        loaded = WebDriverWait(driver, 15).until(EC.visibility_of_all_elements_located((By.XPATH, \"//div[@class='watermark']\"))) \n",
    "        DT = driver.find_element_by_css_selector('[style=\"style=\"]')\n",
    "        DataType.append(DT.text.split(\": \")[1])\n",
    "        time.sleep(10)\n",
    "        if counter % 5 == 0:\n",
    "            #every 5 urls reset the driver, to prevent slow down \n",
    "            print(\"Quitting... Starting a new one\") \n",
    "            driver.quit()\n",
    "            df4 = pd.DataFrame()\n",
    "            df4['DataType'] = DataType\n",
    "            df4.to_csv('DataType.csv') #save to csv, in case of crashes, it is overriding the previous one \n",
    "            time.sleep(10)\n",
    "            profile = FirefoxProfile(r'/home/kali/Downloads/tor-browser/Browser/TorBrowser/Data/Browser/profile.default')\n",
    "            profile.set_preference('network.proxy.type', 1)\n",
    "            profile.set_preference('network.proxy.socks', '127.0.0.1')\n",
    "            profile.set_preference('network.proxy.socks_port', 9150)\n",
    "            profile.set_preference(\"network.proxy.socks_remote_dns\", True)\n",
    "            profile.update_preferences()\n",
    "            options = Options()\n",
    "            options.headless = True\n",
    "    except Exception as e:\n",
    "        print(e)\n",
    "        DataType.append(\"Not found\")\n",
    "\n",
    "\n",
    "driver.quit()\n"
   ]
  },
  {
   "cell_type": "code",
   "execution_count": 27,
   "id": "25319991-24a6-4408-b5fd-8cecfc771bbb",
   "metadata": {},
   "outputs": [
    {
     "name": "stdout",
     "output_type": "stream",
     "text": [
      "True\n"
     ]
    }
   ],
   "source": [
    "df = df[~df.Date_of_leak.str.contains(\"2022\") == True]\n",
    "print(len(DataType)== df.shape[0])"
   ]
  },
  {
   "cell_type": "code",
   "execution_count": 28,
   "id": "56522728-064b-4e07-bd35-cbaa3c501eb0",
   "metadata": {},
   "outputs": [],
   "source": [
    "df['Data_Type']=DataType\n",
    "df.to_csv('PLAY_DATA_FULL.csv')\n",
    "\n"
   ]
  },
  {
   "cell_type": "markdown",
   "id": "a441079e-14a6-4f39-9759-3e43f981db4c",
   "metadata": {},
   "source": [
    "# Using clearnet to scrap the company information"
   ]
  },
  {
   "cell_type": "code",
   "execution_count": null,
   "id": "0559fb0e-3ae4-4654-a389-55567616fe2f",
   "metadata": {},
   "outputs": [],
   "source": [
    "companies_list = df['Company_Name'].to_list()\n",
    "IndustryType = []\n",
    "Websites = []\n",
    "Address = []"
   ]
  },
  {
   "cell_type": "code",
   "execution_count": null,
   "id": "856affec-0f8e-40c1-a788-1580256a071c",
   "metadata": {},
   "outputs": [],
   "source": [
    "df"
   ]
  },
  {
   "cell_type": "code",
   "execution_count": 12,
   "id": "a38d90eb-be64-417a-92b9-1a6ee4b66db4",
   "metadata": {},
   "outputs": [],
   "source": [
    "import requests\n",
    "\n",
    "def location_to_country(location):\n",
    "    base_url = \"https://nominatim.openstreetmap.org/search\"\n",
    "    \n",
    "    params = {\n",
    "        \"addressdetails\": 1,\n",
    "        \"q\": location,\n",
    "        \"format\": \"jsonv2\",\n",
    "        \"limit\": 1\n",
    "    }\n",
    "\n",
    "    response = requests.get(base_url, params=params)\n",
    "    data = response.json()\n",
    "\n",
    "    if data:\n",
    "        country = data[0].get(\"address\", {}).get(\"country\", \"\")\n",
    "        return country\n",
    "\n",
    "    return np.nan"
   ]
  },
  {
   "cell_type": "code",
   "execution_count": 13,
   "id": "f11a929e-0490-4e08-b01b-c7ff635e8f1a",
   "metadata": {},
   "outputs": [
    {
     "name": "stdout",
     "output_type": "stream",
     "text": [
      "start:  Allcare Pharmacy: Message: Unable to locate element: [data-test-id=\"about-us__headquarters\"]\n",
      "Stacktrace:\n",
      "RemoteError@chrome://remote/content/shared/RemoteError.sys.mjs:8:8\n",
      "WebDriverError@chrome://remote/content/shared/webdriver/Errors.sys.mjs:187:5\n",
      "NoSuchElementError@chrome://remote/content/shared/webdriver/Errors.sys.mjs:505:5\n",
      "element.find/</<@chrome://remote/content/marionette/element.sys.mjs:135:16\n",
      "\n",
      "Finished\n",
      "start:  Dee Sign Co.: Finished\n",
      "start:  Felling Trailers, Inc.: Finished\n",
      "start:  Moore Engineering, Inc: Finished\n",
      "start:  Intrasect Technologies: Finished\n",
      "start:  NGS Super: Finished\n",
      "start:  Joy Baking Group: Finished\n",
      "start:  Tarolli, Sundheim, Covell & Tummino LLP: Finished\n",
      "start:  Manning Building Supplies Inc: Finished\n",
      "start:  Hopsteiner: Finished\n",
      "start:  MWI Animal Health: Finished\n"
     ]
    }
   ],
   "source": [
    "# Using LinkedIn\n",
    "\n",
    "companyWebsite_list = []\n",
    "industry_list = []\n",
    "headquarter_list = []\n",
    "country_list = []\n",
    "\n",
    "wait = WebDriverWait(driver, 10)\n",
    "\n",
    "for company in companies_list:\n",
    "    print(\"start: \", end =\" \")\n",
    "    time.sleep(20)\n",
    "    profile = FirefoxProfile(r'/home/kali/Downloads/tor-browser/Browser/TorBrowser/Data/Browser/profile.default')\n",
    "    profile.update_preferences()\n",
    "    options = Options()\n",
    "    options.headless = True\n",
    "    driver = webdriver.Firefox(options=options, firefox_profile= profile, executable_path=r'/home/kali/Downloads/geckodriver')\n",
    "    try:\n",
    "        driver.get('https://www.google.com')\n",
    "        search = driver.find_element(By.NAME, 'q')\n",
    "        search.send_keys(company + ' linkedin')\n",
    "        search.send_keys(Keys.RETURN)\n",
    "        loaded = WebDriverWait(driver, 10).until(EC.presence_of_element_located((By.ID, \"main\")))\n",
    "        linkedin_page = driver.find_element_by_tag_name('h3') # clicking the first search \n",
    "        print(linkedin_page.text, end =\": \")\n",
    "        time.sleep(10) # to limit rate of requests to linkedin\n",
    "        linkedin_page.click()\n",
    "\n",
    "        if \"linkedin\" in driver.current_url:\n",
    "\n",
    "            loaded = WebDriverWait(driver, 10).until(EC.presence_of_element_located((By.ID, \"main-content\")))\n",
    "            try:\n",
    "                sign_in_button_element = driver.find_element_by_xpath(\"//button[@class='sign-in-modal__outlet-btn cursor-pointer btn-md btn-primary']\")\n",
    "                sign_in_button_element.click()\n",
    "                dismiss_button_element = driver.find_element_by_xpath(\"//button[@class='modal__dismiss btn-tertiary h-[40px] w-[40px] p-0 rounded-full indent-0 sign-in-modal__dismiss absolute right-0 cursor-pointer m-[20px]']\")\n",
    "                dismiss_button_element.click()\n",
    "            except:\n",
    "                pass\n",
    "\n",
    "            CLASS = \".//dd[@class='font-sans text-md text-color-text break-words overflow-hidden']\"\n",
    "\n",
    "            # try:\n",
    "            #     website_element = driver.find_element_by_css_selector('[data-test-id=\"about-us__website\"]')\n",
    "            #     website_text_element = website_element.find_element(By.XPATH, CLASS)\n",
    "            #     website_text = website_text_element.text\n",
    "            # except Exception as e:\n",
    "            #     website_text = np.nan\n",
    "            #     print(e)\n",
    "            # companyWebsite_list.append(website_text)\n",
    "\n",
    "            try:\n",
    "                industry_element = driver.find_element_by_css_selector('[data-test-id=\"about-us__industry\"]')\n",
    "                industry_text_element = industry_element.find_element(By.XPATH, CLASS)\n",
    "                industry_text = industry_text_element.text\n",
    "            except Exception as e:\n",
    "                industry_text = np.nan\n",
    "                print(e)\n",
    "            industry_list.append(industry_text)\n",
    "            \n",
    "            try:\n",
    "                headquarters_element = driver.find_element_by_css_selector('[data-test-id=\"about-us__headquarters\"]')\n",
    "                headquarters_text_element = headquarters_element.find_element(By.XPATH, CLASS)\n",
    "                headquarters_text = headquarters_text_element.text\n",
    "\n",
    "                country = location_to_country(headquarters_text)\n",
    "            except Exception as e:\n",
    "                headquarters_text = np.nan\n",
    "                country = np.nan\n",
    "                print(e)\n",
    "            headquarter_list.append(headquarters_text)\n",
    "            country_list.append(country)\n",
    "\n",
    "        else:\n",
    "            # companyWebsite_list.append(np.nan)\n",
    "            industry_list.append(np.nan)\n",
    "            headquarter_list.append(np.nan)\n",
    "            country_list.append(np.nan)\n",
    "\n",
    "    except Exception as e:\n",
    "        companyWebsite_list.append(np.nan)\n",
    "        industry_list.append(np.nan)\n",
    "        headquarter_list.append(np.nan)\n",
    "        country_list.append(np.nan)\n",
    "        print(e)\n",
    "    finally:\n",
    "        print(\"Finished\")\n",
    "        driver.quit()\n",
    "\n",
    "    "
   ]
  },
  {
   "cell_type": "code",
   "execution_count": 14,
   "id": "8bfc0816-3fac-45c1-8adb-788db2278f6e",
   "metadata": {},
   "outputs": [],
   "source": [
    "df[\"Company_URL\"] = companyWebsite_list\n",
    "df[\"Industry_Type\"] = industry_list\n",
    "df[\"Company_Address\"] = headquarter_list\n",
    "df[\"Company_Country\"] = country_list"
   ]
  },
  {
   "cell_type": "code",
   "execution_count": 15,
   "id": "51008cdc-be9a-4e33-a419-eea05718a472",
   "metadata": {},
   "outputs": [
    {
     "data": {
      "text/html": [
       "<div>\n",
       "<style scoped>\n",
       "    .dataframe tbody tr th:only-of-type {\n",
       "        vertical-align: middle;\n",
       "    }\n",
       "\n",
       "    .dataframe tbody tr th {\n",
       "        vertical-align: top;\n",
       "    }\n",
       "\n",
       "    .dataframe thead th {\n",
       "        text-align: right;\n",
       "    }\n",
       "</style>\n",
       "<table border=\"1\" class=\"dataframe\">\n",
       "  <thead>\n",
       "    <tr style=\"text-align: right;\">\n",
       "      <th></th>\n",
       "      <th>Company_Name</th>\n",
       "      <th>Date_of_leak</th>\n",
       "      <th>Company_URL_1</th>\n",
       "      <th>Data_Type</th>\n",
       "      <th>Company_URL</th>\n",
       "      <th>Industry_Type</th>\n",
       "      <th>Company_Address</th>\n",
       "      <th>Company_Country</th>\n",
       "    </tr>\n",
       "  </thead>\n",
       "  <tbody>\n",
       "    <tr>\n",
       "      <th>0</th>\n",
       "      <td>AllCare Pharmacy</td>\n",
       "      <td>Posted Oct 02, 2023.</td>\n",
       "      <td>https://www.allcarepharmacy.com/</td>\n",
       "      <td>Customer Database with SSN!</td>\n",
       "      <td>http://www.allcarepharmacy.ie</td>\n",
       "      <td>Retail</td>\n",
       "      <td>NaN</td>\n",
       "      <td>NaN</td>\n",
       "    </tr>\n",
       "    <tr>\n",
       "      <th>0</th>\n",
       "      <td>Dee Sign</td>\n",
       "      <td>Posted Sep 01, 2023.</td>\n",
       "      <td>https://deesign.com/</td>\n",
       "      <td>Customer Database</td>\n",
       "      <td>https://www.deesign.com/</td>\n",
       "      <td>Real Estate</td>\n",
       "      <td>West Chester, OH</td>\n",
       "      <td>United States</td>\n",
       "    </tr>\n",
       "    <tr>\n",
       "      <th>0</th>\n",
       "      <td>Felling Trailers, Inc.</td>\n",
       "      <td>Posted Jul 13, 2023.</td>\n",
       "      <td>https://www.felling.com/</td>\n",
       "      <td>Unknown</td>\n",
       "      <td>https://www.felling.com</td>\n",
       "      <td>Truck Transportation</td>\n",
       "      <td>Sauk Centre, MN</td>\n",
       "      <td>United States</td>\n",
       "    </tr>\n",
       "    <tr>\n",
       "      <th>0</th>\n",
       "      <td>Moore Engineering</td>\n",
       "      <td>Posted Mar 31, 2023.</td>\n",
       "      <td>https://www.mooreengineeringinc.com/</td>\n",
       "      <td>Unknown</td>\n",
       "      <td>http://www.mooreengineeringinc.com/</td>\n",
       "      <td>Civil Engineering</td>\n",
       "      <td>West Fargo, ND</td>\n",
       "      <td>United States</td>\n",
       "    </tr>\n",
       "    <tr>\n",
       "      <th>0</th>\n",
       "      <td>Intrasect Technologies</td>\n",
       "      <td>Posted Mar 29, 2023.</td>\n",
       "      <td>https://www.intrasecttech.com/</td>\n",
       "      <td>Unknown</td>\n",
       "      <td>http://www.intrasect.com</td>\n",
       "      <td>IT Services and IT Consulting</td>\n",
       "      <td>Wabash, Indiana</td>\n",
       "      <td>United States</td>\n",
       "    </tr>\n",
       "    <tr>\n",
       "      <th>0</th>\n",
       "      <td>NGS Super</td>\n",
       "      <td>Posted Mar 25, 2023.</td>\n",
       "      <td>https://www.ngssuper.com.au/</td>\n",
       "      <td>Unknown</td>\n",
       "      <td>https://www.ngssuper.com.au</td>\n",
       "      <td>Financial Services</td>\n",
       "      <td>Sydney, NSW</td>\n",
       "      <td>Australia</td>\n",
       "    </tr>\n",
       "    <tr>\n",
       "      <th>0</th>\n",
       "      <td>Joy Cone Co, Joy Baking group, BoDeans Baking,...</td>\n",
       "      <td>Posted Mar 11, 2023.</td>\n",
       "      <td>https://joycone.com/</td>\n",
       "      <td>Unknown</td>\n",
       "      <td>https://joycone.com/</td>\n",
       "      <td>Manufacturing</td>\n",
       "      <td>Hermitage, PA</td>\n",
       "      <td>United States</td>\n",
       "    </tr>\n",
       "    <tr>\n",
       "      <th>0</th>\n",
       "      <td>Tarolli, Sundheim, Covell &amp; Tummino LLP</td>\n",
       "      <td>Posted Mar 14, 2023.</td>\n",
       "      <td>http://www.tarolli.com/</td>\n",
       "      <td>Unknown</td>\n",
       "      <td>http://www.tarolli.com</td>\n",
       "      <td>Legal Services</td>\n",
       "      <td>Cleveland, Ohio</td>\n",
       "      <td>United States</td>\n",
       "    </tr>\n",
       "    <tr>\n",
       "      <th>0</th>\n",
       "      <td>Manning Building Supplies</td>\n",
       "      <td>Posted Mar 13, 2023.</td>\n",
       "      <td>https://www.mbs-corp.com</td>\n",
       "      <td>Unknown</td>\n",
       "      <td>http://www.mbs-corp.com/</td>\n",
       "      <td>Construction</td>\n",
       "      <td>Ocala, Florida</td>\n",
       "      <td>United States</td>\n",
       "    </tr>\n",
       "    <tr>\n",
       "      <th>0</th>\n",
       "      <td>Hopsteiner</td>\n",
       "      <td>Posted Feb 10, 2023.</td>\n",
       "      <td>https://www.hopsteiner.com/</td>\n",
       "      <td>Unknown</td>\n",
       "      <td>http://Hopsteiner.com</td>\n",
       "      <td>Food and Beverage Services</td>\n",
       "      <td>Yakima, WA</td>\n",
       "      <td>United States</td>\n",
       "    </tr>\n",
       "    <tr>\n",
       "      <th>0</th>\n",
       "      <td>AmerisourceBergen/Censora - MWI Animal Health</td>\n",
       "      <td>Posted Jan 22, 2023.</td>\n",
       "      <td>https://www.amerisourcebergen.com/ https://www...</td>\n",
       "      <td>unknown</td>\n",
       "      <td>http://www.mwiah.com</td>\n",
       "      <td>Veterinary Services</td>\n",
       "      <td>Boise, ID</td>\n",
       "      <td>United States</td>\n",
       "    </tr>\n",
       "  </tbody>\n",
       "</table>\n",
       "</div>"
      ],
      "text/plain": [
       "                                        Company_Name          Date_of_leak  \\\n",
       "0                                   AllCare Pharmacy  Posted Oct 02, 2023.   \n",
       "0                                           Dee Sign  Posted Sep 01, 2023.   \n",
       "0                             Felling Trailers, Inc.  Posted Jul 13, 2023.   \n",
       "0                                  Moore Engineering  Posted Mar 31, 2023.   \n",
       "0                             Intrasect Technologies  Posted Mar 29, 2023.   \n",
       "0                                          NGS Super  Posted Mar 25, 2023.   \n",
       "0  Joy Cone Co, Joy Baking group, BoDeans Baking,...  Posted Mar 11, 2023.   \n",
       "0            Tarolli, Sundheim, Covell & Tummino LLP  Posted Mar 14, 2023.   \n",
       "0                          Manning Building Supplies  Posted Mar 13, 2023.   \n",
       "0                                         Hopsteiner  Posted Feb 10, 2023.   \n",
       "0      AmerisourceBergen/Censora - MWI Animal Health  Posted Jan 22, 2023.   \n",
       "\n",
       "                                       Company_URL_1  \\\n",
       "0                   https://www.allcarepharmacy.com/   \n",
       "0                               https://deesign.com/   \n",
       "0                           https://www.felling.com/   \n",
       "0               https://www.mooreengineeringinc.com/   \n",
       "0                     https://www.intrasecttech.com/   \n",
       "0                       https://www.ngssuper.com.au/   \n",
       "0                               https://joycone.com/   \n",
       "0                            http://www.tarolli.com/   \n",
       "0                           https://www.mbs-corp.com   \n",
       "0                        https://www.hopsteiner.com/   \n",
       "0  https://www.amerisourcebergen.com/ https://www...   \n",
       "\n",
       "                     Data_Type                          Company_URL  \\\n",
       "0  Customer Database with SSN!        http://www.allcarepharmacy.ie   \n",
       "0            Customer Database             https://www.deesign.com/   \n",
       "0                      Unknown              https://www.felling.com   \n",
       "0                      Unknown  http://www.mooreengineeringinc.com/   \n",
       "0                      Unknown             http://www.intrasect.com   \n",
       "0                      Unknown          https://www.ngssuper.com.au   \n",
       "0                      Unknown                 https://joycone.com/   \n",
       "0                      Unknown               http://www.tarolli.com   \n",
       "0                      Unknown             http://www.mbs-corp.com/   \n",
       "0                      Unknown                http://Hopsteiner.com   \n",
       "0                      unknown                 http://www.mwiah.com   \n",
       "\n",
       "                   Industry_Type   Company_Address Company_Country  \n",
       "0                         Retail               NaN             NaN  \n",
       "0                    Real Estate  West Chester, OH   United States  \n",
       "0           Truck Transportation   Sauk Centre, MN   United States  \n",
       "0              Civil Engineering    West Fargo, ND   United States  \n",
       "0  IT Services and IT Consulting   Wabash, Indiana   United States  \n",
       "0             Financial Services       Sydney, NSW       Australia  \n",
       "0                  Manufacturing     Hermitage, PA   United States  \n",
       "0                 Legal Services   Cleveland, Ohio   United States  \n",
       "0                   Construction    Ocala, Florida   United States  \n",
       "0     Food and Beverage Services        Yakima, WA   United States  \n",
       "0            Veterinary Services         Boise, ID   United States  "
      ]
     },
     "execution_count": 15,
     "metadata": {},
     "output_type": "execute_result"
    }
   ],
   "source": [
    "df"
   ]
  },
  {
   "cell_type": "code",
   "execution_count": 17,
   "id": "3abaabab-2f7b-4e88-9e52-6b7e1866f90d",
   "metadata": {},
   "outputs": [],
   "source": [
    "df.to_csv('Lorenz_ALL_DATA.csv')"
   ]
  },
  {
   "cell_type": "code",
   "execution_count": null,
   "id": "a1b66535-c0a9-4f71-9260-eb3f3d3bde0a",
   "metadata": {},
   "outputs": [],
   "source": [
    "df"
   ]
  },
  {
   "cell_type": "code",
   "execution_count": null,
   "id": "70862b03-5c4d-4ee8-960b-fc696c9116d9",
   "metadata": {},
   "outputs": [],
   "source": []
  }
 ],
 "metadata": {
  "kernelspec": {
   "display_name": "Python 3 (ipykernel)",
   "language": "python",
   "name": "python3"
  },
  "language_info": {
   "codemirror_mode": {
    "name": "ipython",
    "version": 3
   },
   "file_extension": ".py",
   "mimetype": "text/x-python",
   "name": "python",
   "nbconvert_exporter": "python",
   "pygments_lexer": "ipython3",
   "version": "3.11.4"
  }
 },
 "nbformat": 4,
 "nbformat_minor": 5
}
