{
 "cells": [
  {
   "cell_type": "code",
   "execution_count": 2,
   "id": "95c50379-c97f-482c-a321-c97613fc59b8",
   "metadata": {},
   "outputs": [],
   "source": [
    "from selenium import webdriver\n",
    "from selenium.webdriver.firefox.firefox_profile import FirefoxProfile\n",
    "import os\n",
    "from webdriver_manager.firefox import GeckoDriverManager\n",
    "from selenium.webdriver.firefox.service import Service\n",
    "from selenium.webdriver.common.by import By\n",
    "from selenium.webdriver.support.ui import WebDriverWait\n",
    "from selenium.webdriver.support import expected_conditions as EC\n",
    "import pandas as pd\n",
    "import warnings\n",
    "import time\n",
    "from selenium import webdriver\n",
    "from selenium.webdriver.chrome.service import Service \n",
    "from webdriver_manager.chrome import ChromeDriverManager\n",
    "from selenium.webdriver.common.keys import Keys\n",
    "from selenium.webdriver.chrome.options import Options\n",
    "warnings.filterwarnings(\"ignore\", category=DeprecationWarning) \n",
    "from selenium.webdriver.firefox.options import Options\n",
    "import numpy as np\n"
   ]
  },
  {
   "cell_type": "code",
   "execution_count": 3,
   "id": "c56ec080-ce20-45cb-b676-8ce2121cb0ef",
   "metadata": {},
   "outputs": [
    {
     "data": {
      "text/plain": [
       "'4.1.0'"
      ]
     },
     "execution_count": 3,
     "metadata": {},
     "output_type": "execute_result"
    }
   ],
   "source": [
    "import selenium\n",
    "selenium.__version__"
   ]
  },
  {
   "cell_type": "code",
   "execution_count": 3,
   "id": "96399b10-181e-4d0c-be14-3fa514d6fd33",
   "metadata": {},
   "outputs": [],
   "source": [
    "def check_substring(inputStr:str):\n",
    "    DataType = \"\"\n",
    "    inputStr = inputStr.lower()\n",
    "\n",
    "    # can you help do this HAHAHAHAH plessss\n",
    "    if \"criminal data\" in inputStr or \"criminal record\" in inputStr:\n",
    "        DataType += \"Criminal Records, \" \n",
    "    \n",
    "    if \"personal data\" in inputStr or \"cvs\" in inputStr or \"ssn\" in inputStr or \"personal\" in inputStr:\n",
    "        DataType += \"Personal Data, \"\n",
    "    \n",
    "    if \"network data\" in inputStr or \"network map\" in inputStr or \"remote services\" in inputStr or \"local services\" in inputStr:\n",
    "        DataType += \"Network Data, \"\n",
    "\n",
    "    if \"data of employees\" in inputStr or \"employee data\" in inputStr or \"employees data\" in inputStr or \"data of employee\" in inputStr:\n",
    "        DataType += \"Employee Data, \"\n",
    "\n",
    "    if \"data of customers\" in inputStr or \"customer data\" in inputStr or \"customers data\" in inputStr or \"data of customer\" in inputStr:\n",
    "        DataType += \"Customer Data, \"\n",
    "\n",
    "    if \"sensitive\" in inputStr:\n",
    "        DataType += \"Sensitive (general), \"\n",
    "\n",
    "    if \"database backup\" in inputStr or \"database backups\" in inputStr or \"database\" in inputStr or \"databases\" in inputStr:\n",
    "        DataType += \"Database Data, \"\n",
    "\n",
    "    if len(DataType)<1:\n",
    "        DataType += \"Unknown\"\n",
    "\n",
    "    return DataType"
   ]
  },
  {
   "cell_type": "code",
   "execution_count": 4,
   "id": "339998d3-9e49-44ce-82df-9dd72bb7e6f5",
   "metadata": {},
   "outputs": [
    {
     "name": "stderr",
     "output_type": "stream",
     "text": [
      "/bin/sh: 1: /home/kali/Downloads/tor-browser/Browser/TorBrowser/Tor/: Permission denied\n"
     ]
    },
    {
     "name": "stdout",
     "output_type": "stream",
     "text": [
      "1: 12\n",
      "2: 12\n",
      "3: 12\n",
      "4: 12\n"
     ]
    }
   ],
   "source": [
    "df = pd.DataFrame()\n",
    "urls_DT = []\n",
    "torexe = os.popen(r'/home/kali/Downloads/tor-browser/Browser/TorBrowser/Tor/')\n",
    "profile = FirefoxProfile(r'/home/kali/Downloads/tor-browser/Browser/TorBrowser/Data/Browser/profile.default')\n",
    "profile.set_preference('network.proxy.type', 1)\n",
    "profile.set_preference('network.proxy.socks', '127.0.0.1')\n",
    "profile.set_preference('network.proxy.socks_port', 9150)\n",
    "profile.set_preference(\"network.proxy.socks_remote_dns\", True)\n",
    "profile.update_preferences()\n",
    "\n",
    "#checking if tor is working\n",
    "# driver = webdriver.Firefox(firefox_profile= profile, executable_path=r'/home/kali/Downloads/geckodriver')\n",
    "# website = driver.get(\"http://check.torproject.org\")#checking\n",
    "options = Options()\n",
    "options.headless = True\n",
    "# options.add_experimental_option(\"detach\", True)\n",
    "orig_url = \"http://k7kg3jqxang3wh7hnmaiokchk7qoebupfgoik6rha6mjpzwupwtj25yd.onion/\"\n",
    "for j in range(1, 5):\n",
    "    print(j, end=\": \")\n",
    "    #set a new driver\n",
    "    driver = webdriver.Firefox(options=options, firefox_profile= profile, executable_path=r'/home/kali/Downloads/geckodriver')\n",
    "    #get the url \n",
    "    url = \"http://k7kg3jqxang3wh7hnmaiokchk7qoebupfgoik6rha6mjpzwupwtj25yd.onion/index.php?page=\"+str(j)\n",
    "    website = driver.get(url)\n",
    "\n",
    "    loaded = WebDriverWait(driver, 20).until(EC.visibility_of_all_elements_located((By.XPATH, \"//div[@class='watermark']\"))) \n",
    "    each_block = WebDriverWait(driver, 20).until(EC.visibility_of_all_elements_located((By.XPATH, \"//table/tbody/tr/th\")))\n",
    "    \n",
    "    each_block= each_block[4:-1]\n",
    "    print(len(each_block)) #makes sure each page has 12\n",
    "    for i in each_block:\n",
    "        llist = i.text.splitlines()\n",
    "        if len(llist)==7:\n",
    "            company_name, country, company_url, numviews, dateofattack, dateofleak, status,  = llist      \n",
    "        urls = (i.get_attribute(\"onclick\"))\n",
    "        urls_DT.append(orig_url+\"topic.php?id=\"+str(urls.split(\"'\")[1]))\n",
    "        df2 = pd.DataFrame({'Company_Name': company_name,\"Date_of_leak\": dateofleak, \"Date_of_attack\": dateofattack, \"Company_URL\": company_url, \"Country1\": country, \"NumViews\": numviews}, index=[0])\n",
    "        df = pd.concat([df,df2], axis = 0)\n",
    "    time.sleep(20) #sleep for a while before creating the new one\n",
    "\n",
    "driver.quit()\n",
    "    "
   ]
  },
  {
   "cell_type": "code",
   "execution_count": 5,
   "id": "1891aef4-2f02-4fe5-84f9-d5793c41d3dc",
   "metadata": {},
   "outputs": [
    {
     "name": "stdout",
     "output_type": "stream",
     "text": [
      "5: 12\n",
      "6: 12\n",
      "7: 12\n",
      "8: 12\n",
      "9: 12\n"
     ]
    }
   ],
   "source": [
    "#to do it in batches are prevent the code from slowing down\n",
    "time.sleep(20)\n",
    "profile = FirefoxProfile(r'/home/kali/Downloads/tor-browser/Browser/TorBrowser/Data/Browser/profile.default')\n",
    "profile.set_preference('network.proxy.type', 1)\n",
    "profile.set_preference('network.proxy.socks', '127.0.0.1')\n",
    "profile.set_preference('network.proxy.socks_port', 9150)\n",
    "profile.set_preference(\"network.proxy.socks_remote_dns\", True)\n",
    "profile.update_preferences()\n",
    "\n",
    "#checking if tor is working\n",
    "driver = webdriver.Firefox(firefox_profile= profile, executable_path=r'/home/kali/Downloads/geckodriver')\n",
    "website = driver.get(\"http://check.torproject.org\")#checking\n",
    "options = Options()\n",
    "options.headless = True\n",
    "\n",
    "orig_url = \"http://k7kg3jqxang3wh7hnmaiokchk7qoebupfgoik6rha6mjpzwupwtj25yd.onion/\"\n",
    "for j in range(5, 10): #pages 5 to 9 \n",
    "    print(j, end=\": \")\n",
    "    #set a new driver\n",
    "    driver = webdriver.Firefox(options=options, firefox_profile= profile, executable_path=r'/home/kali/Downloads/geckodriver')\n",
    "    #get the url \n",
    "    url = \"http://k7kg3jqxang3wh7hnmaiokchk7qoebupfgoik6rha6mjpzwupwtj25yd.onion/index.php?page=\"+str(j)\n",
    "    website = driver.get(url)\n",
    "\n",
    "    loaded = WebDriverWait(driver, 20).until(EC.visibility_of_all_elements_located((By.XPATH, \"//div[@class='watermark']\"))) \n",
    "    each_block = WebDriverWait(driver, 20).until(EC.visibility_of_all_elements_located((By.XPATH, \"//table/tbody/tr/th\")))\n",
    "    \n",
    "    each_block= each_block[4:-1]\n",
    "    print(len(each_block)) #makes sure each page has 12\n",
    "    for i in each_block:\n",
    "        llist = i.text.splitlines()\n",
    "        if len(llist)==7:\n",
    "            company_name, country, company_url, numviews, dateofattack, dateofleak, status,  = llist      \n",
    "        urls = (i.get_attribute(\"onclick\"))\n",
    "        urls_DT.append(orig_url+\"topic.php?id=\"+str(urls.split(\"'\")[1]))\n",
    "        df2 = pd.DataFrame({'Company_Name': company_name,\"Date_of_leak\": dateofleak, \"Date_of_attack\": dateofattack, \"Company_URL\": company_url, \"Country1\": country, \"NumViews\": numviews}, index=[0])\n",
    "        df = pd.concat([df,df2], axis = 0)\n",
    "    time.sleep(20) #sleep for a while before creating the new one\n",
    "\n",
    "driver.quit()\n",
    "    "
   ]
  },
  {
   "cell_type": "code",
   "execution_count": 6,
   "id": "a209185c-d74c-4bd8-bb19-c91eb2a0ecaa",
   "metadata": {},
   "outputs": [
    {
     "name": "stdout",
     "output_type": "stream",
     "text": [
      "10: 12\n",
      "11: 12\n",
      "12: 12\n",
      "13: 12\n",
      "14: 12\n"
     ]
    }
   ],
   "source": [
    "#to do it in batches are prevent the code from slowing down\n",
    "time.sleep(20)\n",
    "profile = FirefoxProfile(r'/home/kali/Downloads/tor-browser/Browser/TorBrowser/Data/Browser/profile.default')\n",
    "profile.set_preference('network.proxy.type', 1)\n",
    "profile.set_preference('network.proxy.socks', '127.0.0.1')\n",
    "profile.set_preference('network.proxy.socks_port', 9150)\n",
    "profile.set_preference(\"network.proxy.socks_remote_dns\", True)\n",
    "profile.update_preferences()\n",
    "\n",
    "#checking if tor is working\n",
    "driver = webdriver.Firefox(firefox_profile= profile, executable_path=r'/home/kali/Downloads/geckodriver')\n",
    "website = driver.get(\"http://check.torproject.org\")#checking\n",
    "options = Options()\n",
    "options.headless = True\n",
    "\n",
    "orig_url = \"http://k7kg3jqxang3wh7hnmaiokchk7qoebupfgoik6rha6mjpzwupwtj25yd.onion/\"\n",
    "for j in range(10, 15): #pages 10 to 14\n",
    "    print(j, end=\": \")\n",
    "    #set a new driver\n",
    "    driver = webdriver.Firefox(options=options, firefox_profile= profile, executable_path=r'/home/kali/Downloads/geckodriver')\n",
    "    #get the url \n",
    "    url = \"http://k7kg3jqxang3wh7hnmaiokchk7qoebupfgoik6rha6mjpzwupwtj25yd.onion/index.php?page=\"+str(j)\n",
    "    website = driver.get(url)\n",
    "\n",
    "    loaded = WebDriverWait(driver, 20).until(EC.visibility_of_all_elements_located((By.XPATH, \"//div[@class='watermark']\"))) \n",
    "    each_block = WebDriverWait(driver, 20).until(EC.visibility_of_all_elements_located((By.XPATH, \"//table/tbody/tr/th\")))\n",
    "    \n",
    "    each_block= each_block[4:-1]\n",
    "    print(len(each_block)) #makes sure each page has 12\n",
    "    for i in each_block:\n",
    "        llist = i.text.splitlines()\n",
    "        if len(llist)==7:\n",
    "            company_name, country, company_url, numviews, dateofattack, dateofleak, status,  = llist      \n",
    "        urls = (i.get_attribute(\"onclick\"))\n",
    "        urls_DT.append(orig_url+\"topic.php?id=\"+str(urls.split(\"'\")[1]))\n",
    "        df2 = pd.DataFrame({'Company_Name': company_name,\"Date_of_leak\": dateofleak, \"Date_of_attack\": dateofattack, \"Company_URL\": company_url, \"Country1\": country, \"NumViews\": numviews}, index=[0])\n",
    "        df = pd.concat([df,df2], axis = 0)\n",
    "    time.sleep(20) #sleep for a while before creating the new one\n",
    "\n",
    "driver.quit()\n",
    "    "
   ]
  },
  {
   "cell_type": "code",
   "execution_count": 7,
   "id": "31baeecd-9a4c-479c-896c-799820ef61d9",
   "metadata": {},
   "outputs": [
    {
     "name": "stdout",
     "output_type": "stream",
     "text": [
      "15: 12\n",
      "16: 12\n"
     ]
    }
   ],
   "source": [
    "#to do it in batches are prevent the code from slowing down\n",
    "time.sleep(20)\n",
    "profile = FirefoxProfile(r'/home/kali/Downloads/tor-browser/Browser/TorBrowser/Data/Browser/profile.default')\n",
    "profile.set_preference('network.proxy.type', 1)\n",
    "profile.set_preference('network.proxy.socks', '127.0.0.1')\n",
    "profile.set_preference('network.proxy.socks_port', 9150)\n",
    "profile.set_preference(\"network.proxy.socks_remote_dns\", True)\n",
    "profile.update_preferences()\n",
    "\n",
    "#checking if tor is working\n",
    "driver = webdriver.Firefox(firefox_profile= profile, executable_path=r'/home/kali/Downloads/geckodriver')\n",
    "website = driver.get(\"http://check.torproject.org\")#checking\n",
    "options = Options()\n",
    "options.headless = True\n",
    "\n",
    "orig_url = \"http://k7kg3jqxang3wh7hnmaiokchk7qoebupfgoik6rha6mjpzwupwtj25yd.onion/\"\n",
    "for j in range(15, 17): #pages 15 to 16, page 17 is year 2002\n",
    "    print(j, end=\": \")\n",
    "    #set a new driver\n",
    "    driver = webdriver.Firefox(options=options, firefox_profile= profile, executable_path=r'/home/kali/Downloads/geckodriver')\n",
    "    #get the url \n",
    "    url = \"http://k7kg3jqxang3wh7hnmaiokchk7qoebupfgoik6rha6mjpzwupwtj25yd.onion/index.php?page=\"+str(j)\n",
    "    website = driver.get(url)\n",
    "\n",
    "    loaded = WebDriverWait(driver, 20).until(EC.visibility_of_all_elements_located((By.XPATH, \"//div[@class='watermark']\"))) \n",
    "    each_block = WebDriverWait(driver, 20).until(EC.visibility_of_all_elements_located((By.XPATH, \"//table/tbody/tr/th\")))\n",
    "    \n",
    "    each_block= each_block[4:-1]\n",
    "    print(len(each_block)) #makes sure each page has 12\n",
    "    for i in each_block:\n",
    "        llist = i.text.splitlines()\n",
    "        if len(llist)==7:\n",
    "            company_name, country, company_url, numviews, dateofattack, dateofleak, status,  = llist      \n",
    "        urls = (i.get_attribute(\"onclick\"))\n",
    "        urls_DT.append(orig_url+\"topic.php?id=\"+str(urls.split(\"'\")[1]))\n",
    "        df2 = pd.DataFrame({'Company_Name': company_name,\"Date_of_leak\": dateofleak, \"Date_of_attack\": dateofattack, \"Company_URL\": company_url, \"Country1\": country, \"NumViews\": numviews}, index=[0])\n",
    "        df = pd.concat([df,df2], axis = 0)\n",
    "    time.sleep(20) #sleep for a while before creating the new one\n",
    "\n",
    "driver.quit()\n",
    "    "
   ]
  },
  {
   "cell_type": "code",
   "execution_count": 8,
   "id": "a8f5e5df-13c6-45b8-9a7f-ff3c95ff6ca3",
   "metadata": {},
   "outputs": [
    {
     "data": {
      "text/plain": [
       "(192, 6)"
      ]
     },
     "execution_count": 8,
     "metadata": {},
     "output_type": "execute_result"
    }
   ],
   "source": [
    "df.shape"
   ]
  },
  {
   "cell_type": "code",
   "execution_count": 9,
   "id": "5fb29c46-3b5f-4b0d-9d5e-1ee8427dd1e7",
   "metadata": {},
   "outputs": [
    {
     "data": {
      "text/plain": [
       "192"
      ]
     },
     "execution_count": 9,
     "metadata": {},
     "output_type": "execute_result"
    }
   ],
   "source": [
    "len(urls_DT)\n"
   ]
  },
  {
   "cell_type": "code",
   "execution_count": 10,
   "id": "6e235593-2cc6-4977-be0a-30af959cd8ae",
   "metadata": {},
   "outputs": [],
   "source": [
    "df3 = pd.DataFrame()\n",
    "df3['DT_URLS'] = urls_DT\n",
    "df3.to_csv('DT_URLS.csv')\n",
    "df.to_csv('PLAY_DATA.csv')"
   ]
  },
  {
   "cell_type": "code",
   "execution_count": 11,
   "id": "1a320d4e-cfb2-4b3f-b25b-b3793b641030",
   "metadata": {},
   "outputs": [],
   "source": [
    "df = df[~df.Date_of_leak.str.contains(\"2022\") == True]"
   ]
  },
  {
   "cell_type": "code",
   "execution_count": 12,
   "id": "4f7b4a1e-8b2e-44b2-b677-4322d89c520f",
   "metadata": {},
   "outputs": [
    {
     "data": {
      "text/plain": [
       "180"
      ]
     },
     "execution_count": 12,
     "metadata": {},
     "output_type": "execute_result"
    }
   ],
   "source": [
    "df.shape[0]"
   ]
  },
  {
   "cell_type": "code",
   "execution_count": 14,
   "id": "7105f023-1470-4cb3-8212-d87a8ad254ca",
   "metadata": {},
   "outputs": [
    {
     "data": {
      "text/plain": [
       "192"
      ]
     },
     "execution_count": 14,
     "metadata": {},
     "output_type": "execute_result"
    }
   ],
   "source": [
    "len(urls_DT)"
   ]
  },
  {
   "cell_type": "code",
   "execution_count": 3,
   "id": "b577ca11-69c8-42a8-9b63-6566582d9131",
   "metadata": {},
   "outputs": [
    {
     "data": {
      "text/plain": [
       "81"
      ]
     },
     "execution_count": 3,
     "metadata": {},
     "output_type": "execute_result"
    }
   ],
   "source": [
    "df = pd.read_csv('PLAY_DATA.csv')\n",
    "df3 = pd.read_csv('DT_URLS.csv')\n",
    "df4 = pd.read_csv('DataType.csv')\n",
    "DataType = df4['DataType'].tolist()\n",
    "urls_DT = df3['DT_URLS'].tolist()\n",
    "len(DataType)"
   ]
  },
  {
   "cell_type": "code",
   "execution_count": 20,
   "id": "8fe0e638-9302-4bb1-941a-9713d639eec9",
   "metadata": {},
   "outputs": [
    {
     "data": {
      "text/plain": [
       "171"
      ]
     },
     "execution_count": 20,
     "metadata": {},
     "output_type": "execute_result"
    }
   ],
   "source": [
    "len(DataType)"
   ]
  },
  {
   "cell_type": "code",
   "execution_count": 21,
   "id": "dac4fecf-91f2-48a9-8593-9f7a3f7c0706",
   "metadata": {},
   "outputs": [
    {
     "name": "stdout",
     "output_type": "stream",
     "text": [
      "171\n",
      "172\n",
      "173\n",
      "174\n",
      "175\n",
      "Quitting... Starting a new one\n",
      "176\n",
      "177\n",
      "Message: \n",
      "\n",
      "178\n",
      "179\n"
     ]
    }
   ],
   "source": [
    "#scrapping the Data Type\n",
    "\n",
    "profile = FirefoxProfile(r'/home/kali/Downloads/tor-browser/Browser/TorBrowser/Data/Browser/profile.default')\n",
    "profile.set_preference('network.proxy.type', 1)\n",
    "profile.set_preference('network.proxy.socks', '127.0.0.1')\n",
    "profile.set_preference('network.proxy.socks_port', 9150)\n",
    "profile.set_preference(\"network.proxy.socks_remote_dns\", True)\n",
    "profile.update_preferences()\n",
    "\n",
    "driver = webdriver.Firefox(firefox_profile= profile, executable_path=r'/home/kali/Downloads/geckodriver')\n",
    "website = driver.get(\"http://check.torproject.org\")#checking\n",
    "time.sleep(10)\n",
    "\n",
    "options = Options()\n",
    "options.headless = True\n",
    "\n",
    "#important to do in batches, if not kali will crash \n",
    "for counter in range(171, 180): #till 170  max length:180 (0 to 179)\n",
    "    u = urls_DT[counter]\n",
    "    try:\n",
    "        print(counter)\n",
    "        driver = webdriver.Firefox(options=options, firefox_profile= profile, executable_path=r'/home/kali/Downloads/geckodriver')\n",
    "        website = driver.get(u)\n",
    "        loaded = WebDriverWait(driver, 15).until(EC.visibility_of_all_elements_located((By.XPATH, \"//div[@class='watermark']\"))) \n",
    "        DT = driver.find_element_by_css_selector('[style=\"style=\"]')\n",
    "        DataType.append(DT.text.split(\": \")[1])\n",
    "        time.sleep(10)\n",
    "        if counter % 5 == 0:\n",
    "            #every 5 urls reset the driver, to prevent slow down \n",
    "            print(\"Quitting... Starting a new one\") \n",
    "            driver.quit()\n",
    "            df4 = pd.DataFrame()\n",
    "            df4['DataType'] = DataType\n",
    "            df4.to_csv('DataType.csv') #save to csv, in case of crashes, it is overriding the previous one \n",
    "            time.sleep(10)\n",
    "            profile = FirefoxProfile(r'/home/kali/Downloads/tor-browser/Browser/TorBrowser/Data/Browser/profile.default')\n",
    "            profile.set_preference('network.proxy.type', 1)\n",
    "            profile.set_preference('network.proxy.socks', '127.0.0.1')\n",
    "            profile.set_preference('network.proxy.socks_port', 9150)\n",
    "            profile.set_preference(\"network.proxy.socks_remote_dns\", True)\n",
    "            profile.update_preferences()\n",
    "            options = Options()\n",
    "            options.headless = True\n",
    "    except Exception as e:\n",
    "        print(e)\n",
    "        DataType.append(\"Not found\")\n",
    "\n",
    "\n",
    "driver.quit()\n"
   ]
  },
  {
   "cell_type": "code",
   "execution_count": 27,
   "id": "25319991-24a6-4408-b5fd-8cecfc771bbb",
   "metadata": {},
   "outputs": [
    {
     "name": "stdout",
     "output_type": "stream",
     "text": [
      "True\n"
     ]
    }
   ],
   "source": [
    "df = df[~df.Date_of_leak.str.contains(\"2022\") == True]\n",
    "print(len(DataType)== df.shape[0])"
   ]
  },
  {
   "cell_type": "code",
   "execution_count": 28,
   "id": "56522728-064b-4e07-bd35-cbaa3c501eb0",
   "metadata": {},
   "outputs": [],
   "source": [
    "df['Data_Type']=DataType\n",
    "df.to_csv('PLAY_DATA_FULL.csv')\n",
    "\n"
   ]
  },
  {
   "cell_type": "markdown",
   "id": "a441079e-14a6-4f39-9759-3e43f981db4c",
   "metadata": {},
   "source": [
    "# Using clearnet to scrap the company information"
   ]
  },
  {
   "cell_type": "code",
   "execution_count": 1,
   "id": "ad886bff-065b-425d-8790-9fd2253bb908",
   "metadata": {},
   "outputs": [],
   "source": [
    "from selenium import webdriver\n",
    "from selenium.webdriver.firefox.firefox_profile import FirefoxProfile\n",
    "import os\n",
    "from webdriver_manager.firefox import GeckoDriverManager\n",
    "from selenium.webdriver.firefox.service import Service\n",
    "from selenium.webdriver.common.by import By\n",
    "from selenium.webdriver.support.ui import WebDriverWait\n",
    "from selenium.webdriver.support import expected_conditions as EC\n",
    "import pandas as pd\n",
    "import warnings\n",
    "import time\n",
    "from selenium import webdriver\n",
    "from selenium.webdriver.chrome.service import Service \n",
    "from webdriver_manager.chrome import ChromeDriverManager\n",
    "from selenium.webdriver.common.keys import Keys\n",
    "from selenium.webdriver.chrome.options import Options\n",
    "warnings.filterwarnings(\"ignore\", category=DeprecationWarning) \n",
    "from selenium.webdriver.firefox.options import Options\n",
    "import numpy as np"
   ]
  },
  {
   "cell_type": "code",
   "execution_count": 2,
   "id": "0559fb0e-3ae4-4654-a389-55567616fe2f",
   "metadata": {},
   "outputs": [
    {
     "data": {
      "text/plain": [
       "(180, 9)"
      ]
     },
     "execution_count": 2,
     "metadata": {},
     "output_type": "execute_result"
    }
   ],
   "source": [
    "df = pd.read_csv('PLAY_DATA_FULL.csv')\n",
    "companies_list = df['Company_Name'].to_list()\n",
    "IndustryType = []\n",
    "Websites = []\n",
    "Address = []"
   ]
  },
  {
   "cell_type": "code",
   "execution_count": 4,
   "id": "a38d90eb-be64-417a-92b9-1a6ee4b66db4",
   "metadata": {},
   "outputs": [],
   "source": [
    "import requests\n",
    "\n",
    "def location_to_country(location):\n",
    "    base_url = \"https://nominatim.openstreetmap.org/search\"\n",
    "    \n",
    "    params = {\n",
    "        \"addressdetails\": 1,\n",
    "        \"q\": location,\n",
    "        \"format\": \"jsonv2\",\n",
    "        \"limit\": 1\n",
    "    }\n",
    "\n",
    "    response = requests.get(base_url, params=params)\n",
    "    data = response.json()\n",
    "\n",
    "    if data:\n",
    "        country = data[0].get(\"address\", {}).get(\"country\", \"\")\n",
    "        return country\n",
    "\n",
    "    return np.nan"
   ]
  },
  {
   "cell_type": "code",
   "execution_count": 5,
   "id": "f11a929e-0490-4e08-b01b-c7ff635e8f1a",
   "metadata": {},
   "outputs": [
    {
     "name": "stdout",
     "output_type": "stream",
     "text": [
      "start:  1 Hughes Gill Cochrane Tinetti, P.C.: Finished\n",
      "start:  1 Saltire Energy Group: Finished\n",
      "start:  1 "
     ]
    },
    {
     "ename": "KeyboardInterrupt",
     "evalue": "",
     "output_type": "error",
     "traceback": [
      "\u001b[0;31m---------------------------------------------------------------------------\u001b[0m",
      "\u001b[0;31mKeyboardInterrupt\u001b[0m                         Traceback (most recent call last)",
      "Cell \u001b[0;32mIn[5], line 12\u001b[0m\n\u001b[1;32m     10\u001b[0m \u001b[38;5;28;01mfor\u001b[39;00m company \u001b[38;5;129;01min\u001b[39;00m companies_list:\n\u001b[1;32m     11\u001b[0m     \u001b[38;5;28mprint\u001b[39m(\u001b[38;5;124m\"\u001b[39m\u001b[38;5;124mstart: \u001b[39m\u001b[38;5;124m\"\u001b[39m, counter, end \u001b[38;5;241m=\u001b[39m\u001b[38;5;124m\"\u001b[39m\u001b[38;5;124m \u001b[39m\u001b[38;5;124m\"\u001b[39m)\n\u001b[0;32m---> 12\u001b[0m     \u001b[43mtime\u001b[49m\u001b[38;5;241;43m.\u001b[39;49m\u001b[43msleep\u001b[49m\u001b[43m(\u001b[49m\u001b[38;5;241;43m30\u001b[39;49m\u001b[43m)\u001b[49m\n\u001b[1;32m     13\u001b[0m     profile \u001b[38;5;241m=\u001b[39m FirefoxProfile(\u001b[38;5;124mr\u001b[39m\u001b[38;5;124m'\u001b[39m\u001b[38;5;124m/home/kali/Downloads/tor-browser/Browser/TorBrowser/Data/Browser/profile.default\u001b[39m\u001b[38;5;124m'\u001b[39m)\n\u001b[1;32m     14\u001b[0m     profile\u001b[38;5;241m.\u001b[39mupdate_preferences()\n",
      "\u001b[0;31mKeyboardInterrupt\u001b[0m: "
     ]
    }
   ],
   "source": [
    "# Using LinkedIn\n",
    "\n",
    "companyWebsite_list = []\n",
    "industry_list = []\n",
    "headquarter_list = []\n",
    "country_list = []\n",
    "\n",
    "\n",
    "counter = 1\n",
    "for company in companies_list:\n",
    "    print(\"start: \", counter, end =\" \")\n",
    "    time.sleep(30)\n",
    "    profile = FirefoxProfile(r'/home/kali/Downloads/tor-browser/Browser/TorBrowser/Data/Browser/profile.default')\n",
    "    profile.update_preferences()\n",
    "    options = Options()\n",
    "    options.headless = True\n",
    "    driver = webdriver.Firefox(options=options, firefox_profile= profile, executable_path=r'/home/kali/Downloads/geckodriver')\n",
    "    try:\n",
    "        driver.get('https://www.google.com')\n",
    "        search = driver.find_element(By.NAME, 'q')\n",
    "        search.send_keys(company + ' linkedin')\n",
    "        search.send_keys(Keys.RETURN)\n",
    "        loaded = WebDriverWait(driver, 10).until(EC.presence_of_element_located((By.ID, \"main\")))\n",
    "        linkedin_page = driver.find_element_by_tag_name('h3') # clicking the first search \n",
    "        print(linkedin_page.text, end =\": \")\n",
    "        time.sleep(10) # to limit rate of requests to linkedin\n",
    "        linkedin_page.click()\n",
    "\n",
    "        if \"linkedin\" in driver.current_url:\n",
    "\n",
    "            loaded = WebDriverWait(driver, 10).until(EC.presence_of_element_located((By.ID, \"main-content\")))\n",
    "            try:\n",
    "                sign_in_button_element = driver.find_element_by_xpath(\"//button[@class='sign-in-modal__outlet-btn cursor-pointer btn-md btn-primary']\")\n",
    "                sign_in_button_element.click()\n",
    "                dismiss_button_element = driver.find_element_by_xpath(\"//button[@class='modal__dismiss btn-tertiary h-[40px] w-[40px] p-0 rounded-full indent-0 sign-in-modal__dismiss absolute right-0 cursor-pointer m-[20px]']\")\n",
    "                dismiss_button_element.click()\n",
    "            except:\n",
    "                pass\n",
    "\n",
    "            CLASS = \".//dd[@class='font-sans text-md text-color-text break-words overflow-hidden']\"\n",
    "\n",
    "            try:\n",
    "                industry_element = driver.find_element_by_css_selector('[data-test-id=\"about-us__industry\"]')\n",
    "                industry_text_element = industry_element.find_element(By.XPATH, CLASS)\n",
    "                industry_text = industry_text_element.text\n",
    "            except Exception as e:\n",
    "                industry_text = np.nan\n",
    "                print(e)\n",
    "            industry_list.append(industry_text)\n",
    "            \n",
    "            try:\n",
    "                headquarters_element = driver.find_element_by_css_selector('[data-test-id=\"about-us__headquarters\"]')\n",
    "                headquarters_text_element = headquarters_element.find_element(By.XPATH, CLASS)\n",
    "                headquarters_text = headquarters_text_element.text\n",
    "\n",
    "                country = location_to_country(headquarters_text)\n",
    "            except Exception as e:\n",
    "                headquarters_text = np.nan\n",
    "                country = np.nan\n",
    "                print(e)\n",
    "            headquarter_list.append(headquarters_text)\n",
    "            country_list.append(country)\n",
    "\n",
    "        else:\n",
    "            # companyWebsite_list.append(np.nan)\n",
    "            industry_list.append(np.nan)\n",
    "            headquarter_list.append(np.nan)\n",
    "            country_list.append(np.nan)\n",
    "\n",
    "    except Exception as e:\n",
    "        companyWebsite_list.append(np.nan)\n",
    "        industry_list.append(np.nan)\n",
    "        headquarter_list.append(np.nan)\n",
    "        country_list.append(np.nan)\n",
    "        print(e)\n",
    "    finally:\n",
    "        counter += 1\n",
    "        print(\"Finished\")\n",
    "        driver.quit()\n",
    "\n",
    "    "
   ]
  },
  {
   "cell_type": "code",
   "execution_count": 6,
   "id": "756add6c-80cc-45a0-8a2d-0bc608cf12f8",
   "metadata": {},
   "outputs": [
    {
     "name": "stdout",
     "output_type": "stream",
     "text": [
      "['Law Practice', 'Oil and Gas']\n",
      "['Walnut Creek, CA', 'Aberdeen, Aberdeenshire']\n",
      "['United States', 'United Kingdom']\n"
     ]
    }
   ],
   "source": [
    "print(industry_list)\n",
    "print(headquarter_list)\n",
    "print(country_list)"
   ]
  },
  {
   "cell_type": "code",
   "execution_count": 14,
   "id": "8bfc0816-3fac-45c1-8adb-788db2278f6e",
   "metadata": {},
   "outputs": [],
   "source": [
    "df[\"Industry_Type\"] = industry_list\n",
    "df[\"Company_Address\"] = headquarter_list\n",
    "df[\"Company_Country\"] = country_list"
   ]
  },
  {
   "cell_type": "code",
   "execution_count": 17,
   "id": "3abaabab-2f7b-4e88-9e52-6b7e1866f90d",
   "metadata": {},
   "outputs": [],
   "source": [
    "df.to_csv('PLAY_ALL_LINKEDIN_DATA.csv')"
   ]
  },
  {
   "cell_type": "code",
   "execution_count": null,
   "id": "a1b66535-c0a9-4f71-9260-eb3f3d3bde0a",
   "metadata": {},
   "outputs": [],
   "source": []
  },
  {
   "cell_type": "code",
   "execution_count": null,
   "id": "70862b03-5c4d-4ee8-960b-fc696c9116d9",
   "metadata": {},
   "outputs": [],
   "source": []
  }
 ],
 "metadata": {
  "kernelspec": {
   "display_name": "Python 3 (ipykernel)",
   "language": "python",
   "name": "python3"
  },
  "language_info": {
   "codemirror_mode": {
    "name": "ipython",
    "version": 3
   },
   "file_extension": ".py",
   "mimetype": "text/x-python",
   "name": "python",
   "nbconvert_exporter": "python",
   "pygments_lexer": "ipython3",
   "version": "3.11.4"
  }
 },
 "nbformat": 4,
 "nbformat_minor": 5
}
