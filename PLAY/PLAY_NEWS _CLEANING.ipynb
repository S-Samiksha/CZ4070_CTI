{
 "cells": [
  {
   "cell_type": "code",
   "execution_count": 4,
   "id": "273f6a1a",
   "metadata": {},
   "outputs": [],
   "source": [
    "import pandas as pd"
   ]
  },
  {
   "cell_type": "code",
   "execution_count": 5,
   "id": "c5c6c057",
   "metadata": {},
   "outputs": [],
   "source": [
    "df = pd.read_csv(\"PLAY_DATA_FULL.csv\")"
   ]
  },
  {
   "cell_type": "code",
   "execution_count": 6,
   "id": "22e8606d",
   "metadata": {},
   "outputs": [],
   "source": [
    "df['NumViews'] = df['NumViews'].str.strip('👁️ views:')\n",
    "df['Date_of_leak'] = df['Date_of_leak'].str.strip('publication date: ')\n",
    "df['Date_of_attack'] = df['Date_of_attack'].str.strip('added: ')"
   ]
  },
  {
   "cell_type": "code",
   "execution_count": 26,
   "id": "d3c02b2a",
   "metadata": {},
   "outputs": [
    {
     "name": "stdout",
     "output_type": "stream",
     "text": [
      "[\"'Walnut Creek, CA'\", \" 'Aberdeen, Aberdeenshire'\", \" 'Thomasville, Georgia'\", \" 'Schwechat, NiederÃ¶sterreich'\", \" 'Basildon, Essex'\", \"  'San Francisco, CA'\", ' nan', \" 'Stavanger'\", \" 'Sabae City, Fukui Pref.'\", \" 'Dallas, Texas'\", \" 'BRACKMILLS'\", \" 'Wilmington, Delaware'\", \"  'Marysville, Ohio'\", ' nan', \" 'Milton Keynes, Buckinghamshire' \", \"'Dallas, Texas'\", \" 'San Jose, CA'\", \" 'Beesd, Gelderland'\", \" 'San Francisco, CA'\", \" 'Kernersville, North Carolina'\", \"  'Bellevue, Idaho'\", ' nan', \" 'Chicago, IL'\", \" 'Steinach, Deutschland'\", \" 'Singapore, Singapore'\", \" 'Fort Wayne, IN'\", \" 'Cambridge, Massachusetts'\", \"  'Brussels, Belgium'\", \" 'Manchester, New Hampshire' \", ' nan', \" 'Los Angeles, California'\", \" 'Houma, Louisiana'\", \"  'RUISLIP'\", \" 'Karlsruhe, Baden-WÃ¼rttemberg'\", \" 'New York, NY'\", \" 'London'\", \" â€˜Salisbury'\", \" 'London, United Kingdom'\", \"  'Brooklyn, New York'\", \" 'Milan'\", \" 'Bakersfield, California'\", \" 'Santa Ana, California'\", ' nan', \" â€˜Melbourne, Victoria'\", ' nan', \" â€˜Vienna, VA'\", \" â€˜Liverpool'\", ' nan', \" â€˜Anchorage, Alaska'\", ' nan', ' nan', \" â€˜Zurich, Switzerland'\", ' nan', ' nan', \" â€˜Wuppertal, North Rhine-Westphalia'\", ' nan', \" â€˜Lenexa, Kansas'\", ' nan', \" â€˜Syracuse, New York'\", \" â€˜Mansfield, TX'\", \" â€˜Jackson, NJ'\", ' nan', \" â€˜Round Rock, Texas'\", \" â€˜Cossato, (BI) - ITALY'\", \" â€˜Logansport, IN'\", \" â€˜Kissimmee, FL'\", ' nan', \" â€˜St.Louis, MO'\", \" â€˜Granite Bay, California'\", \" â€˜North Brunswick, NJ'\", \" â€˜McMinnville, Oregon'\", \" â€˜London, London'\", \" â€˜Herndon, VA'\", \" â€˜San Jose, CA'\", \" â€˜Memphis, TN'\", \" â€˜Toronto, Ontario'\", \" â€˜Warsaw, Poland'\", ' nan', ' nan', \" â€˜Dallas, Texas'\", ' nan', \" â€˜Marcoussis, France'\", \" â€˜Cherry Hill, NJ'\", \" â€˜Praha, HlavnÃ\\xad mÄ›sto Praha'\", \" â€˜Tucson, Arizona'\", \" â€˜Houston, Texas'\", ' nan', \" â€˜Southfield, Michigan'\", \" â€˜ISSY LES MOULINEAUX'\", ' nan', ' nan', \" â€˜CLICHY, HAUTS DE SEINE'\", \" â€˜Dubai'\", \" â€˜Schaumburg, USA'\", ' nan', \" â€˜Pendik, Ä°stanbul'\", \" â€˜Beverwijk, Noord-Holland'\", \" â€˜Amherst, NY'\", \" â€˜Steyr, OberÃ¶sterreich'\", \" â€˜Prague 4'\", \" â€˜Whitecourt, Alberta'\", ' nan', \" â€˜Thurso, QC'\", \" â€˜Albacete, Albacete'\", \" â€˜Woodbridge, ON'\", ' nan', \" â€˜Vidor, Texas'\", \" â€˜DÃ¤nischenhagen, Schleswig-Holstein'\", \" â€˜Monterrey, Nuevo LeÃ³n'\", \" â€˜Kingston'\", ' nan', ' nan', \" â€˜Santa Cruz, California'\", ' nan', \" â€˜SonnenbÃ¼hl, Deutschland'\", ' nan', \" â€˜Waterbury, Connecticut'\", \" â€˜Berlin, Berlin'\", ' nan', \" â€˜Paris'\", \" â€˜Dallas, Texas'\", ' nan', ' nan', \" â€˜Stockholm, Stockholm County'\", \" â€˜Lowell, Massachusetts'\", \" â€˜Singapore'\", ' nan', ' nan', \" â€˜CHOLET'\", \" â€˜Halmstad'\", ' nan', \" â€˜Rome'\", \" â€˜singapore, Singapore'\", \" â€˜Sydney, NSW'\", \" â€˜Bydgoszcz'\", ' nan', ' nan', \" â€˜Antwerpen'\", ' nan', \" â€˜Calgary, Alberta'\", ' nan', \" â€˜Hindley Green, England'\", \" â€˜Munich'\", ' nan', \" â€˜Albany, New York'\", ' nan', \" â€˜Toronto, Ontario'\", \" â€˜Midview City, Singapore'\", \" â€˜Godalming'\", \" â€˜Washington, DC'\", \" â€˜Miami Lakes, Florida'\", \" â€˜Norwich, Norfolk'\", ' nan', \" â€˜Northbrook, IL'\", ' nan', ' nan', ' nan', \" â€˜Maassluis, South Holland'\", \" â€˜Feltham, MIddx'\", \" â€˜Miami, FL'\", ' nan', ' nan', \" â€˜Oakland, California'\", \" â€˜Wolfsburg'\", ' nan', ' nan', \" â€˜Benevento, Italy'\", \" â€˜Singapore, Singapore'\", \" â€˜Beblenheim, Grand Est'\", \" â€˜Prague'\", \" â€˜Glasgow'\", \" â€˜Dayton, OH'\", \" â€˜London, Greater London'\", \" â€˜Utica, ny'\", \" â€˜DonsÃ¶'\", ' nan', ' nan', \" â€˜Singapore , Singapore'\", \" â€˜Dayton, Ohio' \", 'nan ']\n"
     ]
    },
    {
     "data": {
      "text/plain": [
       "<function TextIOWrapper.close()>"
      ]
     },
     "execution_count": 26,
     "metadata": {},
     "output_type": "execute_result"
    }
   ],
   "source": [
    "# opening the file in read mode \n",
    "my_file = open(\"HQ List.txt\", \"r\")\n",
    "  \n",
    "# reading the file \n",
    "data = my_file.read() \n",
    "  \n",
    "# replacing end of line('/n') with ' ' and \n",
    "# splitting the text it further when '.' is seen. \n",
    "data_into_list = data.replace('\\n', ' ').split(\"|\") \n",
    "  \n",
    "# printing the data \n",
    "print(data_into_list) \n",
    "df['HQ'] = data_into_list\n",
    "my_file.close"
   ]
  },
  {
   "cell_type": "code",
   "execution_count": 24,
   "id": "c7efff1f",
   "metadata": {},
   "outputs": [],
   "source": [
    "df.to_csv('PlayNews_2.csv')"
   ]
  },
  {
   "cell_type": "code",
   "execution_count": 25,
   "id": "99a500a8",
   "metadata": {},
   "outputs": [
    {
     "data": {
      "text/plain": [
       "Index(['Unnamed: 0', 'Company_Name', 'Date_of_leak', 'Date_of_attack',\n",
       "       'Company_URL', 'Country1', 'NumViews', 'Industry_Type', 'Data_Type',\n",
       "       'Notes', 'company_urls2', 'countries', 'Country_2', 'industry_2', 'HQ'],\n",
       "      dtype='object')"
      ]
     },
     "execution_count": 25,
     "metadata": {},
     "output_type": "execute_result"
    }
   ],
   "source": [
    "df.columns"
   ]
  },
  {
   "cell_type": "code",
   "execution_count": null,
   "id": "14ccc6cc",
   "metadata": {},
   "outputs": [],
   "source": []
  }
 ],
 "metadata": {
  "kernelspec": {
   "display_name": "Python 3 (ipykernel)",
   "language": "python",
   "name": "python3"
  },
  "language_info": {
   "codemirror_mode": {
    "name": "ipython",
    "version": 3
   },
   "file_extension": ".py",
   "mimetype": "text/x-python",
   "name": "python",
   "nbconvert_exporter": "python",
   "pygments_lexer": "ipython3",
   "version": "3.8.5"
  }
 },
 "nbformat": 4,
 "nbformat_minor": 5
}
